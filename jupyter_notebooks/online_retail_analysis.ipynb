{
 "cells": [
  {
   "cell_type": "markdown",
   "id": "b2a69c11",
   "metadata": {},
   "source": [
    "# **Online Retail Transactions Analysis**"
   ]
  },
  {
   "cell_type": "markdown",
   "id": "d57ddcf2",
   "metadata": {},
   "source": [
    "## Objectives\n",
    "\n",
    "* This notebook analyzes online retail transaction data to understand customer behavior, identify popular products, and optimize business strategies. The analysis provides actionable insights for improving sales, marketing effectiveness, and customer retention.\n",
    "\n",
    "## Inputs\n",
    "\n",
    "* Original Data Set -  [Online Retail Transactions Dataset from Kaggle](https://www.kaggle.com/datasets/abhishekrp1517/online-retail-transactions-dataset) \n",
    "* Transformed Data Set - <TODO>\n",
    "\n",
    "## Outputs\n",
    "\n",
    "* Business Performance Anaalysis \n",
    "* Customer Insights Anaalysis\n",
    "* Product Performance Anaalysis\n",
    "* Seasonal Patterns Anaalysis\n",
    "\n"
   ]
  }
 ],
 "metadata": {
  "language_info": {
   "name": "python"
  }
 },
 "nbformat": 4,
 "nbformat_minor": 5
}
