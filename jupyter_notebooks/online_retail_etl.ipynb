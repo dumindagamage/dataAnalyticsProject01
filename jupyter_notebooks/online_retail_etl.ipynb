{
 "cells": [
  {
   "cell_type": "markdown",
   "id": "b2a69c11",
   "metadata": {},
   "source": [
    "# **Online Retail Transactions - ETL**"
   ]
  },
  {
   "cell_type": "markdown",
   "id": "d57ddcf2",
   "metadata": {},
   "source": [
    "## Objectives\n",
    "\n",
    "* This notebook prepare online retail transaction data to perfrom analysis on customer behavior, identify popular products, and optimize business strategies. \n",
    "\n",
    "## Inputs\n",
    "\n",
    "*  [Online Retail Transactions Dataset from Kaggle](https://www.kaggle.com/datasets/abhishekrp1517/online-retail-transactions-dataset) \n",
    "\n",
    "## Outputs\n",
    "\n",
    "* Cleaned and transformed data\n",
    "\n"
   ]
  }
 ],
 "metadata": {
  "language_info": {
   "name": "python"
  }
 },
 "nbformat": 4,
 "nbformat_minor": 5
}
